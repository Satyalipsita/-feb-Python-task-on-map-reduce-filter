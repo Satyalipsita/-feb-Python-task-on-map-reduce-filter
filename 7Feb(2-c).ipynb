{
 "cells": [
  {
   "cell_type": "code",
   "execution_count": 1,
   "id": "a82852df-d7a9-42b5-b61c-bb677546abc0",
   "metadata": {},
   "outputs": [
    {
     "name": "stdout",
     "output_type": "stream",
     "text": [
      "[('orange', 80), ('mango', 99), ('grapes', 1000)]\n",
      "[('grapes', 1000), ('mango', 99), ('orange', 80)]\n",
      "['orange', 'mango', 'grapes']\n",
      "['grapes', 'mango', 'orange']\n"
     ]
    }
   ],
   "source": [
    "fruits = [(\"mango\",99),(\"orange\",80),(\"grapes\",1000)]\n",
    "\n",
    "sorted_fruits = sorted(fruits, key=lambda x: x[1])\n",
    "print(sorted_fruits)\n",
    "[('orange', 80), ('mango', 99), ('grapes', 1000)]\n",
    "fruits = [(\"mango\",99),(\"orange\",80),(\"grapes\",1000)]\n",
    "\n",
    "sorted_fruits = sorted(fruits, key=lambda x: x[1], reverse=True)\n",
    "print(sorted_fruits)\n",
    "[('grapes', 1000), ('mango', 99), ('orange', 80)]\n",
    "fruits = [(\"mango\",99),(\"orange\",80),(\"grapes\",1000)]\n",
    "\n",
    "sorted_fruits = sorted(fruits, key=lambda x: x[1])\n",
    "sorted_fruit_names = [f[0] for f in sorted_fruits]\n",
    "print(sorted_fruit_names)\n",
    "fruits = [(\"mango\",99),(\"orange\",80),(\"grapes\",1000)]\n",
    "\n",
    "sorted_fruits = sorted(fruits, key=lambda x: x[1], reverse=True)\n",
    "sorted_fruit_names = [f[0] for f in sorted_fruits]\n",
    "print(sorted_fruit_names)\n"
   ]
  },
  {
   "cell_type": "code",
   "execution_count": null,
   "id": "8b2cd6d2-6f21-4db8-856e-3298067c5888",
   "metadata": {},
   "outputs": [],
   "source": []
  }
 ],
 "metadata": {
  "kernelspec": {
   "display_name": "Python 3 (ipykernel)",
   "language": "python",
   "name": "python3"
  },
  "language_info": {
   "codemirror_mode": {
    "name": "ipython",
    "version": 3
   },
   "file_extension": ".py",
   "mimetype": "text/x-python",
   "name": "python",
   "nbconvert_exporter": "python",
   "pygments_lexer": "ipython3",
   "version": "3.10.8"
  }
 },
 "nbformat": 4,
 "nbformat_minor": 5
}
