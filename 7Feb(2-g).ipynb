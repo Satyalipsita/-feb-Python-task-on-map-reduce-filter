{
 "cells": [
  {
   "cell_type": "code",
   "execution_count": 1,
   "id": "e8f2a736-e2e9-4505-be3f-a01eef9060f3",
   "metadata": {},
   "outputs": [
    {
     "name": "stdout",
     "output_type": "stream",
     "text": [
      "[1, 3, 5, 7, 9]\n"
     ]
    }
   ],
   "source": [
    "numbers = [1, 2, 3, 4, 5, 6, 7, 8, 9, 10]\n",
    "\n",
    "filtered_numbers = list(map(lambda x: x if x % 2 != 0 else None, numbers))\n",
    "filtered_numbers = list(filter(None, filtered_numbers))\n",
    "\n",
    "print(filtered_numbers)\n"
   ]
  },
  {
   "cell_type": "code",
   "execution_count": null,
   "id": "092333a7-7474-438c-ab7b-3dd89f08cd73",
   "metadata": {},
   "outputs": [],
   "source": []
  }
 ],
 "metadata": {
  "kernelspec": {
   "display_name": "Python 3 (ipykernel)",
   "language": "python",
   "name": "python3"
  },
  "language_info": {
   "codemirror_mode": {
    "name": "ipython",
    "version": 3
   },
   "file_extension": ".py",
   "mimetype": "text/x-python",
   "name": "python",
   "nbconvert_exporter": "python",
   "pygments_lexer": "ipython3",
   "version": "3.10.8"
  }
 },
 "nbformat": 4,
 "nbformat_minor": 5
}
