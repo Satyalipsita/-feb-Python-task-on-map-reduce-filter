{
 "cells": [
  {
   "cell_type": "code",
   "execution_count": 1,
   "id": "736297e3-51d4-442c-ba17-26facc252fc5",
   "metadata": {},
   "outputs": [
    {
     "name": "stdout",
     "output_type": "stream",
     "text": [
      "[1, 4, 9, 16, 25, 36, 49, 64, 81, 100]\n"
     ]
    }
   ],
   "source": [
    "numbers = range(1, 11)\n",
    "\n",
    "squares = map(lambda x: x**2, numbers)\n",
    "print(list(squares))\n"
   ]
  },
  {
   "cell_type": "code",
   "execution_count": null,
   "id": "73ccdc8c-1375-41b5-b02d-044a9fd82f34",
   "metadata": {},
   "outputs": [],
   "source": []
  }
 ],
 "metadata": {
  "kernelspec": {
   "display_name": "Python 3 (ipykernel)",
   "language": "python",
   "name": "python3"
  },
  "language_info": {
   "codemirror_mode": {
    "name": "ipython",
    "version": 3
   },
   "file_extension": ".py",
   "mimetype": "text/x-python",
   "name": "python",
   "nbconvert_exporter": "python",
   "pygments_lexer": "ipython3",
   "version": "3.10.8"
  }
 },
 "nbformat": 4,
 "nbformat_minor": 5
}
