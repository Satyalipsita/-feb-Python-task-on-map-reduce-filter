{
 "cells": [
  {
   "cell_type": "code",
   "execution_count": null,
   "id": "37154e95-6538-441b-ab97-5a04786fa7c3",
   "metadata": {},
   "outputs": [],
   "source": [
    "# using lamda function starts with perticular letter\n",
    "strings = [\"apple\", \"banana\", \"cherry\", \"durian\"]\n",
    "letter = \"c\"\n",
    "\n",
    "filtered_strings = filter(lambda s: s.startswith(letter), strings)\n",
    "print(list(filtered_strings))\n"
   ]
  },
  {
   "cell_type": "code",
   "execution_count": null,
   "id": "e38aeaa7-2bab-4716-ac6e-34195c484998",
   "metadata": {},
   "outputs": [],
   "source": [
    "#using list comprehension starts with perticular letter\n",
    "strings = [\"apple\", \"banana\", \"cherry\", \"durian\"]\n",
    "letter = \"c\"\n",
    "\n",
    "filtered_strings = [s for s in strings if s.startswith(letter)]\n",
    "print(filtered_strings)\n"
   ]
  },
  {
   "cell_type": "code",
   "execution_count": null,
   "id": "e0c8fe1e-dc14-4f14-bb1d-6b6e72fab164",
   "metadata": {},
   "outputs": [],
   "source": [
    "#checking string is numeric\n",
    "string = \"12345\"\n",
    "\n",
    "is_numeric = any(map(lambda c: c.isdigit(), string))\n",
    "print(is_numeric)"
   ]
  },
  {
   "cell_type": "code",
   "execution_count": null,
   "id": "c49985af-f92e-4cc0-ac00-9f8b02b55942",
   "metadata": {},
   "outputs": [],
   "source": []
  }
 ],
 "metadata": {
  "kernelspec": {
   "display_name": "Python 3 (ipykernel)",
   "language": "python",
   "name": "python3"
  },
  "language_info": {
   "codemirror_mode": {
    "name": "ipython",
    "version": 3
   },
   "file_extension": ".py",
   "mimetype": "text/x-python",
   "name": "python",
   "nbconvert_exporter": "python",
   "pygments_lexer": "ipython3",
   "version": "3.10.8"
  }
 },
 "nbformat": 4,
 "nbformat_minor": 5
}
