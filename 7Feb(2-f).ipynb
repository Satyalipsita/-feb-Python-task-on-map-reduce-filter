{
 "cells": [
  {
   "cell_type": "code",
   "execution_count": 2,
   "id": "749d49cb-f86a-4d45-b15a-34e69972e724",
   "metadata": {},
   "outputs": [
    {
     "name": "stdout",
     "output_type": "stream",
     "text": [
      "[True]\n"
     ]
    }
   ],
   "source": [
    "def is_even(number):\n",
    "    return number % 2 == 0\n",
    "\n",
    "number = 10\n",
    "\n",
    "is_even = map(is_even, [number])\n",
    "print(list(is_even))\n"
   ]
  },
  {
   "cell_type": "code",
   "execution_count": null,
   "id": "5f38ade1-fd94-4754-9e3e-00d78acd1cd7",
   "metadata": {},
   "outputs": [],
   "source": []
  }
 ],
 "metadata": {
  "kernelspec": {
   "display_name": "Python 3 (ipykernel)",
   "language": "python",
   "name": "python3"
  },
  "language_info": {
   "codemirror_mode": {
    "name": "ipython",
    "version": 3
   },
   "file_extension": ".py",
   "mimetype": "text/x-python",
   "name": "python",
   "nbconvert_exporter": "python",
   "pygments_lexer": "ipython3",
   "version": "3.10.8"
  }
 },
 "nbformat": 4,
 "nbformat_minor": 5
}
